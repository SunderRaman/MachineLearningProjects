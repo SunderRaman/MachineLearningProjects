{
 "cells": [
  {
   "cell_type": "markdown",
   "metadata": {},
   "source": [
    "# Car Price Prediction"
   ]
  },
  {
   "cell_type": "markdown",
   "metadata": {},
   "source": [
    "## Data Understanding"
   ]
  },
  {
   "cell_type": "code",
   "execution_count": 3,
   "metadata": {},
   "outputs": [],
   "source": [
    "# Imports\n",
    "import numpy as np\n",
    "import pandas as pd\n",
    "import matplotlib.pyplot as plt\n",
    "import seaborn as sns\n",
    "from sklearn import linear_model\n",
    "from sklearn.linear_model import LinearRegression\n",
    "import os"
   ]
  },
  {
   "cell_type": "code",
   "execution_count": 6,
   "metadata": {},
   "outputs": [],
   "source": [
    "# Set the working directory & Read the data\n",
    "os.chdir(\"C:\\\\Sunder\\\\DataScience\\\\MachineLearning\\\\Projects\\\\CarPricing\")\n",
    "cars = pd.read_csv(\"CarPrice.csv\")"
   ]
  },
  {
   "cell_type": "code",
   "execution_count": 7,
   "metadata": {},
   "outputs": [
    {
     "data": {
      "text/html": [
       "<div>\n",
       "<style scoped>\n",
       "    .dataframe tbody tr th:only-of-type {\n",
       "        vertical-align: middle;\n",
       "    }\n",
       "\n",
       "    .dataframe tbody tr th {\n",
       "        vertical-align: top;\n",
       "    }\n",
       "\n",
       "    .dataframe thead th {\n",
       "        text-align: right;\n",
       "    }\n",
       "</style>\n",
       "<table border=\"1\" class=\"dataframe\">\n",
       "  <thead>\n",
       "    <tr style=\"text-align: right;\">\n",
       "      <th></th>\n",
       "      <th>car_ID</th>\n",
       "      <th>symboling</th>\n",
       "      <th>CarName</th>\n",
       "      <th>fueltype</th>\n",
       "      <th>aspiration</th>\n",
       "      <th>doornumber</th>\n",
       "      <th>carbody</th>\n",
       "      <th>drivewheel</th>\n",
       "      <th>enginelocation</th>\n",
       "      <th>wheelbase</th>\n",
       "      <th>...</th>\n",
       "      <th>enginesize</th>\n",
       "      <th>fuelsystem</th>\n",
       "      <th>boreratio</th>\n",
       "      <th>stroke</th>\n",
       "      <th>compressionratio</th>\n",
       "      <th>horsepower</th>\n",
       "      <th>peakrpm</th>\n",
       "      <th>citympg</th>\n",
       "      <th>highwaympg</th>\n",
       "      <th>price</th>\n",
       "    </tr>\n",
       "  </thead>\n",
       "  <tbody>\n",
       "    <tr>\n",
       "      <th>0</th>\n",
       "      <td>1</td>\n",
       "      <td>3</td>\n",
       "      <td>alfa-romero giulia</td>\n",
       "      <td>gas</td>\n",
       "      <td>std</td>\n",
       "      <td>two</td>\n",
       "      <td>convertible</td>\n",
       "      <td>rwd</td>\n",
       "      <td>front</td>\n",
       "      <td>88.6</td>\n",
       "      <td>...</td>\n",
       "      <td>130</td>\n",
       "      <td>mpfi</td>\n",
       "      <td>3.47</td>\n",
       "      <td>2.68</td>\n",
       "      <td>9.0</td>\n",
       "      <td>111</td>\n",
       "      <td>5000</td>\n",
       "      <td>21</td>\n",
       "      <td>27</td>\n",
       "      <td>13495.0</td>\n",
       "    </tr>\n",
       "    <tr>\n",
       "      <th>1</th>\n",
       "      <td>2</td>\n",
       "      <td>3</td>\n",
       "      <td>alfa-romero stelvio</td>\n",
       "      <td>gas</td>\n",
       "      <td>std</td>\n",
       "      <td>two</td>\n",
       "      <td>convertible</td>\n",
       "      <td>rwd</td>\n",
       "      <td>front</td>\n",
       "      <td>88.6</td>\n",
       "      <td>...</td>\n",
       "      <td>130</td>\n",
       "      <td>mpfi</td>\n",
       "      <td>3.47</td>\n",
       "      <td>2.68</td>\n",
       "      <td>9.0</td>\n",
       "      <td>111</td>\n",
       "      <td>5000</td>\n",
       "      <td>21</td>\n",
       "      <td>27</td>\n",
       "      <td>16500.0</td>\n",
       "    </tr>\n",
       "    <tr>\n",
       "      <th>2</th>\n",
       "      <td>3</td>\n",
       "      <td>1</td>\n",
       "      <td>alfa-romero Quadrifoglio</td>\n",
       "      <td>gas</td>\n",
       "      <td>std</td>\n",
       "      <td>two</td>\n",
       "      <td>hatchback</td>\n",
       "      <td>rwd</td>\n",
       "      <td>front</td>\n",
       "      <td>94.5</td>\n",
       "      <td>...</td>\n",
       "      <td>152</td>\n",
       "      <td>mpfi</td>\n",
       "      <td>2.68</td>\n",
       "      <td>3.47</td>\n",
       "      <td>9.0</td>\n",
       "      <td>154</td>\n",
       "      <td>5000</td>\n",
       "      <td>19</td>\n",
       "      <td>26</td>\n",
       "      <td>16500.0</td>\n",
       "    </tr>\n",
       "    <tr>\n",
       "      <th>3</th>\n",
       "      <td>4</td>\n",
       "      <td>2</td>\n",
       "      <td>audi 100 ls</td>\n",
       "      <td>gas</td>\n",
       "      <td>std</td>\n",
       "      <td>four</td>\n",
       "      <td>sedan</td>\n",
       "      <td>fwd</td>\n",
       "      <td>front</td>\n",
       "      <td>99.8</td>\n",
       "      <td>...</td>\n",
       "      <td>109</td>\n",
       "      <td>mpfi</td>\n",
       "      <td>3.19</td>\n",
       "      <td>3.40</td>\n",
       "      <td>10.0</td>\n",
       "      <td>102</td>\n",
       "      <td>5500</td>\n",
       "      <td>24</td>\n",
       "      <td>30</td>\n",
       "      <td>13950.0</td>\n",
       "    </tr>\n",
       "    <tr>\n",
       "      <th>4</th>\n",
       "      <td>5</td>\n",
       "      <td>2</td>\n",
       "      <td>audi 100ls</td>\n",
       "      <td>gas</td>\n",
       "      <td>std</td>\n",
       "      <td>four</td>\n",
       "      <td>sedan</td>\n",
       "      <td>4wd</td>\n",
       "      <td>front</td>\n",
       "      <td>99.4</td>\n",
       "      <td>...</td>\n",
       "      <td>136</td>\n",
       "      <td>mpfi</td>\n",
       "      <td>3.19</td>\n",
       "      <td>3.40</td>\n",
       "      <td>8.0</td>\n",
       "      <td>115</td>\n",
       "      <td>5500</td>\n",
       "      <td>18</td>\n",
       "      <td>22</td>\n",
       "      <td>17450.0</td>\n",
       "    </tr>\n",
       "  </tbody>\n",
       "</table>\n",
       "<p>5 rows × 26 columns</p>\n",
       "</div>"
      ],
      "text/plain": [
       "   car_ID  symboling                   CarName fueltype aspiration doornumber  \\\n",
       "0       1          3        alfa-romero giulia      gas        std        two   \n",
       "1       2          3       alfa-romero stelvio      gas        std        two   \n",
       "2       3          1  alfa-romero Quadrifoglio      gas        std        two   \n",
       "3       4          2               audi 100 ls      gas        std       four   \n",
       "4       5          2                audi 100ls      gas        std       four   \n",
       "\n",
       "       carbody drivewheel enginelocation  wheelbase  ...  enginesize  \\\n",
       "0  convertible        rwd          front       88.6  ...         130   \n",
       "1  convertible        rwd          front       88.6  ...         130   \n",
       "2    hatchback        rwd          front       94.5  ...         152   \n",
       "3        sedan        fwd          front       99.8  ...         109   \n",
       "4        sedan        4wd          front       99.4  ...         136   \n",
       "\n",
       "   fuelsystem  boreratio  stroke compressionratio horsepower  peakrpm citympg  \\\n",
       "0        mpfi       3.47    2.68              9.0        111     5000      21   \n",
       "1        mpfi       3.47    2.68              9.0        111     5000      21   \n",
       "2        mpfi       2.68    3.47              9.0        154     5000      19   \n",
       "3        mpfi       3.19    3.40             10.0        102     5500      24   \n",
       "4        mpfi       3.19    3.40              8.0        115     5500      18   \n",
       "\n",
       "   highwaympg    price  \n",
       "0          27  13495.0  \n",
       "1          27  16500.0  \n",
       "2          26  16500.0  \n",
       "3          30  13950.0  \n",
       "4          22  17450.0  \n",
       "\n",
       "[5 rows x 26 columns]"
      ]
     },
     "execution_count": 7,
     "metadata": {},
     "output_type": "execute_result"
    }
   ],
   "source": [
    "cars.head()"
   ]
  },
  {
   "cell_type": "code",
   "execution_count": 8,
   "metadata": {},
   "outputs": [
    {
     "name": "stdout",
     "output_type": "stream",
     "text": [
      "<class 'pandas.core.frame.DataFrame'>\n",
      "RangeIndex: 205 entries, 0 to 204\n",
      "Data columns (total 26 columns):\n",
      " #   Column            Non-Null Count  Dtype  \n",
      "---  ------            --------------  -----  \n",
      " 0   car_ID            205 non-null    int64  \n",
      " 1   symboling         205 non-null    int64  \n",
      " 2   CarName           205 non-null    object \n",
      " 3   fueltype          205 non-null    object \n",
      " 4   aspiration        205 non-null    object \n",
      " 5   doornumber        205 non-null    object \n",
      " 6   carbody           205 non-null    object \n",
      " 7   drivewheel        205 non-null    object \n",
      " 8   enginelocation    205 non-null    object \n",
      " 9   wheelbase         205 non-null    float64\n",
      " 10  carlength         205 non-null    float64\n",
      " 11  carwidth          205 non-null    float64\n",
      " 12  carheight         205 non-null    float64\n",
      " 13  curbweight        205 non-null    int64  \n",
      " 14  enginetype        205 non-null    object \n",
      " 15  cylindernumber    205 non-null    object \n",
      " 16  enginesize        205 non-null    int64  \n",
      " 17  fuelsystem        205 non-null    object \n",
      " 18  boreratio         205 non-null    float64\n",
      " 19  stroke            205 non-null    float64\n",
      " 20  compressionratio  205 non-null    float64\n",
      " 21  horsepower        205 non-null    int64  \n",
      " 22  peakrpm           205 non-null    int64  \n",
      " 23  citympg           205 non-null    int64  \n",
      " 24  highwaympg        205 non-null    int64  \n",
      " 25  price             205 non-null    float64\n",
      "dtypes: float64(8), int64(8), object(10)\n",
      "memory usage: 41.8+ KB\n",
      "None\n"
     ]
    }
   ],
   "source": [
    "print(cars.info())"
   ]
  },
  {
   "cell_type": "code",
   "execution_count": 10,
   "metadata": {},
   "outputs": [
    {
     "data": {
      "text/plain": [
       "car_ID              0\n",
       "symboling           0\n",
       "CarName             0\n",
       "fueltype            0\n",
       "aspiration          0\n",
       "doornumber          0\n",
       "carbody             0\n",
       "drivewheel          0\n",
       "enginelocation      0\n",
       "wheelbase           0\n",
       "carlength           0\n",
       "carwidth            0\n",
       "carheight           0\n",
       "curbweight          0\n",
       "enginetype          0\n",
       "cylindernumber      0\n",
       "enginesize          0\n",
       "fuelsystem          0\n",
       "boreratio           0\n",
       "stroke              0\n",
       "compressionratio    0\n",
       "horsepower          0\n",
       "peakrpm             0\n",
       "citympg             0\n",
       "highwaympg          0\n",
       "price               0\n",
       "dtype: int64"
      ]
     },
     "execution_count": 10,
     "metadata": {},
     "output_type": "execute_result"
    }
   ],
   "source": [
    "cars.isna().sum()\n",
    "# No null values or NA Values"
   ]
  },
  {
   "cell_type": "code",
   "execution_count": 18,
   "metadata": {},
   "outputs": [
    {
     "name": "stdout",
     "output_type": "stream",
     "text": [
      "car_ID              205\n",
      "symboling             6\n",
      "CarName             147\n",
      "fueltype              2\n",
      "aspiration            2\n",
      "doornumber            2\n",
      "carbody               5\n",
      "drivewheel            3\n",
      "enginelocation        2\n",
      "wheelbase            53\n",
      "carlength            75\n",
      "carwidth             44\n",
      "carheight            49\n",
      "curbweight          171\n",
      "enginetype            7\n",
      "cylindernumber        7\n",
      "enginesize           44\n",
      "fuelsystem            8\n",
      "boreratio            38\n",
      "stroke               37\n",
      "compressionratio     32\n",
      "horsepower           59\n",
      "peakrpm              23\n",
      "citympg              29\n",
      "highwaympg           30\n",
      "price               189\n",
      "dtype: int64\n"
     ]
    }
   ],
   "source": [
    "unique_values = cars.nunique()\n",
    "print(unique_values)"
   ]
  },
  {
   "cell_type": "markdown",
   "metadata": {},
   "source": [
    "### Understand some of the variables data through plots and counts"
   ]
  },
  {
   "cell_type": "code",
   "execution_count": 23,
   "metadata": {},
   "outputs": [
    {
     "data": {
      "text/plain": [
       " 0    67\n",
       " 1    54\n",
       " 2    32\n",
       " 3    27\n",
       "-1    22\n",
       "-2     3\n",
       "Name: symboling, dtype: int64"
      ]
     },
     "execution_count": 23,
     "metadata": {},
     "output_type": "execute_result"
    }
   ],
   "source": [
    "# symboling\n",
    "cars['symboling'].astype('category').value_counts()"
   ]
  },
  {
   "cell_type": "code",
   "execution_count": 24,
   "metadata": {},
   "outputs": [
    {
     "data": {
      "text/plain": [
       "std      168\n",
       "turbo     37\n",
       "Name: aspiration, dtype: int64"
      ]
     },
     "execution_count": 24,
     "metadata": {},
     "output_type": "execute_result"
    }
   ],
   "source": [
    "# Aspiration\n",
    "cars['aspiration'].astype('category').value_counts()"
   ]
  },
  {
   "cell_type": "code",
   "execution_count": 25,
   "metadata": {},
   "outputs": [
    {
     "data": {
      "text/plain": [
       "fwd    120\n",
       "rwd     76\n",
       "4wd      9\n",
       "Name: drivewheel, dtype: int64"
      ]
     },
     "execution_count": 25,
     "metadata": {},
     "output_type": "execute_result"
    }
   ],
   "source": [
    "# Drive Wheel\n",
    "cars['drivewheel'].astype('category').value_counts()"
   ]
  },
  {
   "cell_type": "code",
   "execution_count": 26,
   "metadata": {},
   "outputs": [
    {
     "data": {
      "image/png": "[encoded data removed]",
      "text/plain": [
       "<Figure size 432x288 with 1 Axes>"
      ]
     },
     "metadata": {
      "needs_background": "light"
     },
     "output_type": "display_data"
    }
   ],
   "source": [
    "# Wheel base\n",
    "sns.distplot(cars['wheelbase'])\n",
    "plt.show()"
   ]
  },
  {
   "cell_type": "code",
   "execution_count": 27,
   "metadata": {},
   "outputs": [
    {
     "data": {
      "image/png": "[encoded data removed]",
      "text/plain": [
       "<Figure size 432x288 with 1 Axes>"
      ]
     },
     "metadata": {
      "needs_background": "light"
     },
     "output_type": "display_data"
    }
   ],
   "source": [
    "# Stroke\n",
    "sns.distplot(cars['stroke'])\n",
    "plt.show()"
   ]
  },
  {
   "cell_type": "code",
   "execution_count": 28,
   "metadata": {},
   "outputs": [
    {
     "data": {
      "image/png": "[encoded data removed]",
      "text/plain": [
       "<Figure size 432x288 with 1 Axes>"
      ]
     },
     "metadata": {
      "needs_background": "light"
     },
     "output_type": "display_data"
    }
   ],
   "source": [
    "# Target variable (Price)\n",
    "sns.distplot(cars['price'])\n",
    "plt.show()"
   ]
  },
  {
   "cell_type": "markdown",
   "metadata": {},
   "source": [
    "### Data Exploration"
   ]
  },
  {
   "cell_type": "code",
   "execution_count": 30,
   "metadata": {},
   "outputs": [
    {
     "data": {
      "text/html": [
       "<div>\n",
       "<style scoped>\n",
       "    .dataframe tbody tr th:only-of-type {\n",
       "        vertical-align: middle;\n",
       "    }\n",
       "\n",
       "    .dataframe tbody tr th {\n",
       "        vertical-align: top;\n",
       "    }\n",
       "\n",
       "    .dataframe thead th {\n",
       "        text-align: right;\n",
       "    }\n",
       "</style>\n",
       "<table border=\"1\" class=\"dataframe\">\n",
       "  <thead>\n",
       "    <tr style=\"text-align: right;\">\n",
       "      <th></th>\n",
       "      <th>car_ID</th>\n",
       "      <th>symboling</th>\n",
       "      <th>wheelbase</th>\n",
       "      <th>carlength</th>\n",
       "      <th>carwidth</th>\n",
       "      <th>carheight</th>\n",
       "      <th>curbweight</th>\n",
       "      <th>enginesize</th>\n",
       "      <th>boreratio</th>\n",
       "      <th>stroke</th>\n",
       "      <th>compressionratio</th>\n",
       "      <th>horsepower</th>\n",
       "      <th>peakrpm</th>\n",
       "      <th>citympg</th>\n",
       "      <th>highwaympg</th>\n",
       "      <th>price</th>\n",
       "    </tr>\n",
       "  </thead>\n",
       "  <tbody>\n",
       "    <tr>\n",
       "      <th>0</th>\n",
       "      <td>1</td>\n",
       "      <td>3</td>\n",
       "      <td>88.6</td>\n",
       "      <td>168.8</td>\n",
       "      <td>64.1</td>\n",
       "      <td>48.8</td>\n",
       "      <td>2548</td>\n",
       "      <td>130</td>\n",
       "      <td>3.47</td>\n",
       "      <td>2.68</td>\n",
       "      <td>9.0</td>\n",
       "      <td>111</td>\n",
       "      <td>5000</td>\n",
       "      <td>21</td>\n",
       "      <td>27</td>\n",
       "      <td>13495.0</td>\n",
       "    </tr>\n",
       "    <tr>\n",
       "      <th>1</th>\n",
       "      <td>2</td>\n",
       "      <td>3</td>\n",
       "      <td>88.6</td>\n",
       "      <td>168.8</td>\n",
       "      <td>64.1</td>\n",
       "      <td>48.8</td>\n",
       "      <td>2548</td>\n",
       "      <td>130</td>\n",
       "      <td>3.47</td>\n",
       "      <td>2.68</td>\n",
       "      <td>9.0</td>\n",
       "      <td>111</td>\n",
       "      <td>5000</td>\n",
       "      <td>21</td>\n",
       "      <td>27</td>\n",
       "      <td>16500.0</td>\n",
       "    </tr>\n",
       "    <tr>\n",
       "      <th>2</th>\n",
       "      <td>3</td>\n",
       "      <td>1</td>\n",
       "      <td>94.5</td>\n",
       "      <td>171.2</td>\n",
       "      <td>65.5</td>\n",
       "      <td>52.4</td>\n",
       "      <td>2823</td>\n",
       "      <td>152</td>\n",
       "      <td>2.68</td>\n",
       "      <td>3.47</td>\n",
       "      <td>9.0</td>\n",
       "      <td>154</td>\n",
       "      <td>5000</td>\n",
       "      <td>19</td>\n",
       "      <td>26</td>\n",
       "      <td>16500.0</td>\n",
       "    </tr>\n",
       "    <tr>\n",
       "      <th>3</th>\n",
       "      <td>4</td>\n",
       "      <td>2</td>\n",
       "      <td>99.8</td>\n",
       "      <td>176.6</td>\n",
       "      <td>66.2</td>\n",
       "      <td>54.3</td>\n",
       "      <td>2337</td>\n",
       "      <td>109</td>\n",
       "      <td>3.19</td>\n",
       "      <td>3.40</td>\n",
       "      <td>10.0</td>\n",
       "      <td>102</td>\n",
       "      <td>5500</td>\n",
       "      <td>24</td>\n",
       "      <td>30</td>\n",
       "      <td>13950.0</td>\n",
       "    </tr>\n",
       "    <tr>\n",
       "      <th>4</th>\n",
       "      <td>5</td>\n",
       "      <td>2</td>\n",
       "      <td>99.4</td>\n",
       "      <td>176.6</td>\n",
       "      <td>66.4</td>\n",
       "      <td>54.3</td>\n",
       "      <td>2824</td>\n",
       "      <td>136</td>\n",
       "      <td>3.19</td>\n",
       "      <td>3.40</td>\n",
       "      <td>8.0</td>\n",
       "      <td>115</td>\n",
       "      <td>5500</td>\n",
       "      <td>18</td>\n",
       "      <td>22</td>\n",
       "      <td>17450.0</td>\n",
       "    </tr>\n",
       "  </tbody>\n",
       "</table>\n",
       "</div>"
      ],
      "text/plain": [
       "   car_ID  symboling  wheelbase  carlength  carwidth  carheight  curbweight  \\\n",
       "0       1          3       88.6      168.8      64.1       48.8        2548   \n",
       "1       2          3       88.6      168.8      64.1       48.8        2548   \n",
       "2       3          1       94.5      171.2      65.5       52.4        2823   \n",
       "3       4          2       99.8      176.6      66.2       54.3        2337   \n",
       "4       5          2       99.4      176.6      66.4       54.3        2824   \n",
       "\n",
       "   enginesize  boreratio  stroke  compressionratio  horsepower  peakrpm  \\\n",
       "0         130       3.47    2.68               9.0         111     5000   \n",
       "1         130       3.47    2.68               9.0         111     5000   \n",
       "2         152       2.68    3.47               9.0         154     5000   \n",
       "3         109       3.19    3.40              10.0         102     5500   \n",
       "4         136       3.19    3.40               8.0         115     5500   \n",
       "\n",
       "   citympg  highwaympg    price  \n",
       "0       21          27  13495.0  \n",
       "1       21          27  16500.0  \n",
       "2       19          26  16500.0  \n",
       "3       24          30  13950.0  \n",
       "4       18          22  17450.0  "
      ]
     },
     "execution_count": 30,
     "metadata": {},
     "output_type": "execute_result"
    }
   ],
   "source": [
    "# Identify all the numeric variables as this would be key during linear regression\n",
    "cars_numeric = cars.select_dtypes(include=['float64', 'int64'])\n",
    "cars_numeric.head()"
   ]
  },
  {
   "cell_type": "code",
   "execution_count": 31,
   "metadata": {},
   "outputs": [
    {
     "data": {
      "text/html": [
       "<div>\n",
       "<style scoped>\n",
       "    .dataframe tbody tr th:only-of-type {\n",
       "        vertical-align: middle;\n",
       "    }\n",
       "\n",
       "    .dataframe tbody tr th {\n",
       "        vertical-align: top;\n",
       "    }\n",
       "\n",
       "    .dataframe thead th {\n",
       "        text-align: right;\n",
       "    }\n",
       "</style>\n",
       "<table border=\"1\" class=\"dataframe\">\n",
       "  <thead>\n",
       "    <tr style=\"text-align: right;\">\n",
       "      <th></th>\n",
       "      <th>wheelbase</th>\n",
       "      <th>carlength</th>\n",
       "      <th>carwidth</th>\n",
       "      <th>carheight</th>\n",
       "      <th>curbweight</th>\n",
       "      <th>enginesize</th>\n",
       "      <th>boreratio</th>\n",
       "      <th>stroke</th>\n",
       "      <th>compressionratio</th>\n",
       "      <th>horsepower</th>\n",
       "      <th>peakrpm</th>\n",
       "      <th>citympg</th>\n",
       "      <th>highwaympg</th>\n",
       "      <th>price</th>\n",
       "    </tr>\n",
       "  </thead>\n",
       "  <tbody>\n",
       "    <tr>\n",
       "      <th>0</th>\n",
       "      <td>88.6</td>\n",
       "      <td>168.8</td>\n",
       "      <td>64.1</td>\n",
       "      <td>48.8</td>\n",
       "      <td>2548</td>\n",
       "      <td>130</td>\n",
       "      <td>3.47</td>\n",
       "      <td>2.68</td>\n",
       "      <td>9.0</td>\n",
       "      <td>111</td>\n",
       "      <td>5000</td>\n",
       "      <td>21</td>\n",
       "      <td>27</td>\n",
       "      <td>13495.0</td>\n",
       "    </tr>\n",
       "    <tr>\n",
       "      <th>1</th>\n",
       "      <td>88.6</td>\n",
       "      <td>168.8</td>\n",
       "      <td>64.1</td>\n",
       "      <td>48.8</td>\n",
       "      <td>2548</td>\n",
       "      <td>130</td>\n",
       "      <td>3.47</td>\n",
       "      <td>2.68</td>\n",
       "      <td>9.0</td>\n",
       "      <td>111</td>\n",
       "      <td>5000</td>\n",
       "      <td>21</td>\n",
       "      <td>27</td>\n",
       "      <td>16500.0</td>\n",
       "    </tr>\n",
       "    <tr>\n",
       "      <th>2</th>\n",
       "      <td>94.5</td>\n",
       "      <td>171.2</td>\n",
       "      <td>65.5</td>\n",
       "      <td>52.4</td>\n",
       "      <td>2823</td>\n",
       "      <td>152</td>\n",
       "      <td>2.68</td>\n",
       "      <td>3.47</td>\n",
       "      <td>9.0</td>\n",
       "      <td>154</td>\n",
       "      <td>5000</td>\n",
       "      <td>19</td>\n",
       "      <td>26</td>\n",
       "      <td>16500.0</td>\n",
       "    </tr>\n",
       "    <tr>\n",
       "      <th>3</th>\n",
       "      <td>99.8</td>\n",
       "      <td>176.6</td>\n",
       "      <td>66.2</td>\n",
       "      <td>54.3</td>\n",
       "      <td>2337</td>\n",
       "      <td>109</td>\n",
       "      <td>3.19</td>\n",
       "      <td>3.40</td>\n",
       "      <td>10.0</td>\n",
       "      <td>102</td>\n",
       "      <td>5500</td>\n",
       "      <td>24</td>\n",
       "      <td>30</td>\n",
       "      <td>13950.0</td>\n",
       "    </tr>\n",
       "    <tr>\n",
       "      <th>4</th>\n",
       "      <td>99.4</td>\n",
       "      <td>176.6</td>\n",
       "      <td>66.4</td>\n",
       "      <td>54.3</td>\n",
       "      <td>2824</td>\n",
       "      <td>136</td>\n",
       "      <td>3.19</td>\n",
       "      <td>3.40</td>\n",
       "      <td>8.0</td>\n",
       "      <td>115</td>\n",
       "      <td>5500</td>\n",
       "      <td>18</td>\n",
       "      <td>22</td>\n",
       "      <td>17450.0</td>\n",
       "    </tr>\n",
       "  </tbody>\n",
       "</table>\n",
       "</div>"
      ],
      "text/plain": [
       "   wheelbase  carlength  carwidth  carheight  curbweight  enginesize  \\\n",
       "0       88.6      168.8      64.1       48.8        2548         130   \n",
       "1       88.6      168.8      64.1       48.8        2548         130   \n",
       "2       94.5      171.2      65.5       52.4        2823         152   \n",
       "3       99.8      176.6      66.2       54.3        2337         109   \n",
       "4       99.4      176.6      66.4       54.3        2824         136   \n",
       "\n",
       "   boreratio  stroke  compressionratio  horsepower  peakrpm  citympg  \\\n",
       "0       3.47    2.68               9.0         111     5000       21   \n",
       "1       3.47    2.68               9.0         111     5000       21   \n",
       "2       2.68    3.47               9.0         154     5000       19   \n",
       "3       3.19    3.40              10.0         102     5500       24   \n",
       "4       3.19    3.40               8.0         115     5500       18   \n",
       "\n",
       "   highwaympg    price  \n",
       "0          27  13495.0  \n",
       "1          27  16500.0  \n",
       "2          26  16500.0  \n",
       "3          30  13950.0  \n",
       "4          22  17450.0  "
      ]
     },
     "execution_count": 31,
     "metadata": {},
     "output_type": "execute_result"
    }
   ],
   "source": [
    "# dropping symboling and car_ID \n",
    "cars_numeric = cars_numeric.drop(['symboling', 'car_ID'], axis=1)\n",
    "cars_numeric.head()"
   ]
  },
  {
   "cell_type": "code",
   "execution_count": 32,
   "metadata": {},
   "outputs": [
    {
     "data": {
      "image/png": "[encoded data removed]",
      "text/plain": [
       "<Figure size 1152x576 with 2 Axes>"
      ]
     },
     "metadata": {
      "needs_background": "light"
     },
     "output_type": "display_data"
    }
   ],
   "source": [
    "# Compute correlation annd plot\n",
    "cor = cars_numeric.corr()\n",
    "# figure size\n",
    "plt.figure(figsize=(16,8))\n",
    "\n",
    "# heatmap\n",
    "sns.heatmap(cor, cmap=\"YlGnBu\", annot=True)\n",
    "plt.show()"
   ]
  },
  {
   "cell_type": "markdown",
   "metadata": {},
   "source": [
    "### Some Inferences\n",
    "Correlation of price with independent variables:\n",
    "- Price is highly (positively) correlated with wheelbase, carlength, carwidth, curbweight, enginesize, horsepower \n",
    "  and (negatively) correlated with citympg and highwaympg\n",
    "\n",
    "Some of the independent variables are correlated among themselves (wheelbase to carlength, carwidth, curbweight)      "
   ]
  },
  {
   "cell_type": "markdown",
   "metadata": {},
   "source": [
    "## Data Cleaning"
   ]
  },
  {
   "cell_type": "code",
   "execution_count": 33,
   "metadata": {},
   "outputs": [
    {
     "name": "stdout",
     "output_type": "stream",
     "text": [
      "<class 'pandas.core.frame.DataFrame'>\n",
      "RangeIndex: 205 entries, 0 to 204\n",
      "Data columns (total 26 columns):\n",
      " #   Column            Non-Null Count  Dtype  \n",
      "---  ------            --------------  -----  \n",
      " 0   car_ID            205 non-null    int64  \n",
      " 1   symboling         205 non-null    object \n",
      " 2   CarName           205 non-null    object \n",
      " 3   fueltype          205 non-null    object \n",
      " 4   aspiration        205 non-null    object \n",
      " 5   doornumber        205 non-null    object \n",
      " 6   carbody           205 non-null    object \n",
      " 7   drivewheel        205 non-null    object \n",
      " 8   enginelocation    205 non-null    object \n",
      " 9   wheelbase         205 non-null    float64\n",
      " 10  carlength         205 non-null    float64\n",
      " 11  carwidth          205 non-null    float64\n",
      " 12  carheight         205 non-null    float64\n",
      " 13  curbweight        205 non-null    int64  \n",
      " 14  enginetype        205 non-null    object \n",
      " 15  cylindernumber    205 non-null    object \n",
      " 16  enginesize        205 non-null    int64  \n",
      " 17  fuelsystem        205 non-null    object \n",
      " 18  boreratio         205 non-null    float64\n",
      " 19  stroke            205 non-null    float64\n",
      " 20  compressionratio  205 non-null    float64\n",
      " 21  horsepower        205 non-null    int64  \n",
      " 22  peakrpm           205 non-null    int64  \n",
      " 23  citympg           205 non-null    int64  \n",
      " 24  highwaympg        205 non-null    int64  \n",
      " 25  price             205 non-null    float64\n",
      "dtypes: float64(8), int64(7), object(11)\n",
      "memory usage: 41.8+ KB\n"
     ]
    }
   ],
   "source": [
    "# Converting symboling to categorical variable\n",
    "cars['symboling'] = cars['symboling'].astype('object')\n",
    "cars.info()"
   ]
  },
  {
   "cell_type": "markdown",
   "metadata": {},
   "source": [
    " \"CarName\" column is a combination of company name and model name. We need to extract the company name "
   ]
  },
  {
   "cell_type": "code",
   "execution_count": 35,
   "metadata": {},
   "outputs": [
    {
     "data": {
      "text/plain": [
       "0          alfa-romero giulia\n",
       "1         alfa-romero stelvio\n",
       "2    alfa-romero Quadrifoglio\n",
       "3                 audi 100 ls\n",
       "4                  audi 100ls\n",
       "5                    audi fox\n",
       "6                  audi 100ls\n",
       "7                   audi 5000\n",
       "8                   audi 4000\n",
       "9         audi 5000s (diesel)\n",
       "Name: CarName, dtype: object"
      ]
     },
     "execution_count": 35,
     "metadata": {},
     "output_type": "execute_result"
    }
   ],
   "source": [
    "cars['CarName'][:10]"
   ]
  },
  {
   "cell_type": "code",
   "execution_count": 40,
   "metadata": {},
   "outputs": [
    {
     "data": {
      "text/plain": [
       "0     alfa-romero\n",
       "1     alfa-romero\n",
       "2     alfa-romero\n",
       "3            audi\n",
       "4            audi\n",
       "5            audi\n",
       "6            audi\n",
       "7            audi\n",
       "8            audi\n",
       "9            audi\n",
       "10            bmw\n",
       "11            bmw\n",
       "12            bmw\n",
       "13            bmw\n",
       "14            bmw\n",
       "15            bmw\n",
       "16            bmw\n",
       "17            bmw\n",
       "18      chevrolet\n",
       "19      chevrolet\n",
       "Name: CarName, dtype: object"
      ]
     },
     "execution_count": 40,
     "metadata": {},
     "output_type": "execute_result"
    }
   ],
   "source": [
    "# Extract the first token based on space\n",
    "carnames = cars['CarName'].apply(lambda x: x.split(\" \")[0])\n",
    "carnames[:20]"
   ]
  },
  {
   "cell_type": "code",
   "execution_count": 57,
   "metadata": {},
   "outputs": [
    {
     "data": {
      "text/plain": [
       "Nissan          1\n",
       "alfa-romero     3\n",
       "audi            7\n",
       "bmw             8\n",
       "buick           8\n",
       "chevrolet       3\n",
       "dodge           9\n",
       "honda          13\n",
       "isuzu           4\n",
       "jaguar          3\n",
       "maxda           2\n",
       "mazda          15\n",
       "mercury         1\n",
       "mitsubishi     13\n",
       "nissan         17\n",
       "peugeot        11\n",
       "plymouth        7\n",
       "porcshce        1\n",
       "porsche         4\n",
       "renault         2\n",
       "saab            6\n",
       "subaru         12\n",
       "toyota         31\n",
       "toyouta         1\n",
       "vokswagen       1\n",
       "volkswagen      9\n",
       "volvo          11\n",
       "vw              2\n",
       "Name: car_company, dtype: int64"
      ]
     },
     "execution_count": 57,
     "metadata": {},
     "output_type": "execute_result"
    }
   ],
   "source": [
    "# There are a few names which are separated by \"-\". Using Regular expressions\n",
    "import re\n",
    "\n",
    "exp = re.compile(r'\\w+-?\\w+')\n",
    "carnames = cars['CarName'].apply(lambda x: re.findall(exp, x)[0])\n",
    "cars['car_company'] = carnames\n",
    "# look at all values \n",
    "cars['car_company'].astype('category').value_counts().sort_index(ascending=True)"
   ]
  },
  {
   "cell_type": "markdown",
   "metadata": {},
   "source": [
    "Some company names like toyota/Toyouta , nissan/Nissan are misspelled or multispelled in different cases. We need to merge them"
   ]
  },
  {
   "cell_type": "code",
   "execution_count": 53,
   "metadata": {},
   "outputs": [],
   "source": [
    "# Replacing misspelled carnames \n",
    "# volkswagen\n",
    "cars.loc[(cars['car_company'] == \"vw\") | \n",
    "         (cars['car_company'] == \"vokswagen\")\n",
    "         , 'car_company'] = 'volkswagen'\n",
    "\n",
    "# porsche\n",
    "cars.loc[cars['car_company'] == \"porcshce\", 'car_company'] = 'porsche'\n",
    "\n",
    "# toyota\n",
    "cars.loc[cars['car_company'] == \"toyouta\", 'car_company'] = 'toyota'\n",
    "\n",
    "# nissan\n",
    "cars.loc[cars['car_company'] == \"Nissan\", 'car_company'] = 'nissan'\n",
    "\n",
    "# mazda\n",
    "cars.loc[cars['car_company'] == \"maxda\", 'car_company'] = 'mazda'"
   ]
  },
  {
   "cell_type": "code",
   "execution_count": 56,
   "metadata": {},
   "outputs": [
    {
     "data": {
      "text/plain": [
       "alfa-romero     3\n",
       "audi            7\n",
       "bmw             8\n",
       "buick           8\n",
       "chevrolet       3\n",
       "dodge           9\n",
       "honda          13\n",
       "isuzu           4\n",
       "jaguar          3\n",
       "mazda          17\n",
       "mercury         1\n",
       "mitsubishi     13\n",
       "nissan         18\n",
       "peugeot        11\n",
       "plymouth        7\n",
       "porsche         5\n",
       "renault         2\n",
       "saab            6\n",
       "subaru         12\n",
       "toyota         32\n",
       "volkswagen     12\n",
       "volvo          11\n",
       "Name: car_company, dtype: int64"
      ]
     },
     "execution_count": 56,
     "metadata": {},
     "output_type": "execute_result"
    }
   ],
   "source": [
    "cars['car_company'].astype('category').value_counts().sort_index()"
   ]
  },
  {
   "cell_type": "code",
   "execution_count": 58,
   "metadata": {},
   "outputs": [],
   "source": [
    "# drop carname variable\n",
    "cars = cars.drop('CarName', axis=1)"
   ]
  },
  {
   "cell_type": "markdown",
   "metadata": {},
   "source": [
    "## Data Preparation for Model Bulding"
   ]
  },
  {
   "cell_type": "code",
   "execution_count": 59,
   "metadata": {},
   "outputs": [],
   "source": [
    "X = cars.loc[:, ['symboling', 'fueltype', 'aspiration', 'doornumber',\n",
    "       'carbody', 'drivewheel', 'enginelocation', 'wheelbase', 'carlength',\n",
    "       'carwidth', 'carheight', 'curbweight', 'enginetype', 'cylindernumber',\n",
    "       'enginesize', 'fuelsystem', 'boreratio', 'stroke', 'compressionratio',\n",
    "       'horsepower', 'peakrpm', 'citympg', 'highwaympg',\n",
    "       'car_company']]\n",
    "\n",
    "y = cars['price']"
   ]
  },
  {
   "cell_type": "code",
   "execution_count": 61,
   "metadata": {},
   "outputs": [
    {
     "data": {
      "text/html": [
       "<div>\n",
       "<style scoped>\n",
       "    .dataframe tbody tr th:only-of-type {\n",
       "        vertical-align: middle;\n",
       "    }\n",
       "\n",
       "    .dataframe tbody tr th {\n",
       "        vertical-align: top;\n",
       "    }\n",
       "\n",
       "    .dataframe thead th {\n",
       "        text-align: right;\n",
       "    }\n",
       "</style>\n",
       "<table border=\"1\" class=\"dataframe\">\n",
       "  <thead>\n",
       "    <tr style=\"text-align: right;\">\n",
       "      <th></th>\n",
       "      <th>symboling</th>\n",
       "      <th>fueltype</th>\n",
       "      <th>aspiration</th>\n",
       "      <th>doornumber</th>\n",
       "      <th>carbody</th>\n",
       "      <th>drivewheel</th>\n",
       "      <th>enginelocation</th>\n",
       "      <th>enginetype</th>\n",
       "      <th>cylindernumber</th>\n",
       "      <th>fuelsystem</th>\n",
       "      <th>car_company</th>\n",
       "    </tr>\n",
       "  </thead>\n",
       "  <tbody>\n",
       "    <tr>\n",
       "      <th>0</th>\n",
       "      <td>3</td>\n",
       "      <td>gas</td>\n",
       "      <td>std</td>\n",
       "      <td>two</td>\n",
       "      <td>convertible</td>\n",
       "      <td>rwd</td>\n",
       "      <td>front</td>\n",
       "      <td>dohc</td>\n",
       "      <td>four</td>\n",
       "      <td>mpfi</td>\n",
       "      <td>alfa-romero</td>\n",
       "    </tr>\n",
       "    <tr>\n",
       "      <th>1</th>\n",
       "      <td>3</td>\n",
       "      <td>gas</td>\n",
       "      <td>std</td>\n",
       "      <td>two</td>\n",
       "      <td>convertible</td>\n",
       "      <td>rwd</td>\n",
       "      <td>front</td>\n",
       "      <td>dohc</td>\n",
       "      <td>four</td>\n",
       "      <td>mpfi</td>\n",
       "      <td>alfa-romero</td>\n",
       "    </tr>\n",
       "    <tr>\n",
       "      <th>2</th>\n",
       "      <td>1</td>\n",
       "      <td>gas</td>\n",
       "      <td>std</td>\n",
       "      <td>two</td>\n",
       "      <td>hatchback</td>\n",
       "      <td>rwd</td>\n",
       "      <td>front</td>\n",
       "      <td>ohcv</td>\n",
       "      <td>six</td>\n",
       "      <td>mpfi</td>\n",
       "      <td>alfa-romero</td>\n",
       "    </tr>\n",
       "    <tr>\n",
       "      <th>3</th>\n",
       "      <td>2</td>\n",
       "      <td>gas</td>\n",
       "      <td>std</td>\n",
       "      <td>four</td>\n",
       "      <td>sedan</td>\n",
       "      <td>fwd</td>\n",
       "      <td>front</td>\n",
       "      <td>ohc</td>\n",
       "      <td>four</td>\n",
       "      <td>mpfi</td>\n",
       "      <td>audi</td>\n",
       "    </tr>\n",
       "    <tr>\n",
       "      <th>4</th>\n",
       "      <td>2</td>\n",
       "      <td>gas</td>\n",
       "      <td>std</td>\n",
       "      <td>four</td>\n",
       "      <td>sedan</td>\n",
       "      <td>4wd</td>\n",
       "      <td>front</td>\n",
       "      <td>ohc</td>\n",
       "      <td>five</td>\n",
       "      <td>mpfi</td>\n",
       "      <td>audi</td>\n",
       "    </tr>\n",
       "    <tr>\n",
       "      <th>...</th>\n",
       "      <td>...</td>\n",
       "      <td>...</td>\n",
       "      <td>...</td>\n",
       "      <td>...</td>\n",
       "      <td>...</td>\n",
       "      <td>...</td>\n",
       "      <td>...</td>\n",
       "      <td>...</td>\n",
       "      <td>...</td>\n",
       "      <td>...</td>\n",
       "      <td>...</td>\n",
       "    </tr>\n",
       "    <tr>\n",
       "      <th>200</th>\n",
       "      <td>-1</td>\n",
       "      <td>gas</td>\n",
       "      <td>std</td>\n",
       "      <td>four</td>\n",
       "      <td>sedan</td>\n",
       "      <td>rwd</td>\n",
       "      <td>front</td>\n",
       "      <td>ohc</td>\n",
       "      <td>four</td>\n",
       "      <td>mpfi</td>\n",
       "      <td>volvo</td>\n",
       "    </tr>\n",
       "    <tr>\n",
       "      <th>201</th>\n",
       "      <td>-1</td>\n",
       "      <td>gas</td>\n",
       "      <td>turbo</td>\n",
       "      <td>four</td>\n",
       "      <td>sedan</td>\n",
       "      <td>rwd</td>\n",
       "      <td>front</td>\n",
       "      <td>ohc</td>\n",
       "      <td>four</td>\n",
       "      <td>mpfi</td>\n",
       "      <td>volvo</td>\n",
       "    </tr>\n",
       "    <tr>\n",
       "      <th>202</th>\n",
       "      <td>-1</td>\n",
       "      <td>gas</td>\n",
       "      <td>std</td>\n",
       "      <td>four</td>\n",
       "      <td>sedan</td>\n",
       "      <td>rwd</td>\n",
       "      <td>front</td>\n",
       "      <td>ohcv</td>\n",
       "      <td>six</td>\n",
       "      <td>mpfi</td>\n",
       "      <td>volvo</td>\n",
       "    </tr>\n",
       "    <tr>\n",
       "      <th>203</th>\n",
       "      <td>-1</td>\n",
       "      <td>diesel</td>\n",
       "      <td>turbo</td>\n",
       "      <td>four</td>\n",
       "      <td>sedan</td>\n",
       "      <td>rwd</td>\n",
       "      <td>front</td>\n",
       "      <td>ohc</td>\n",
       "      <td>six</td>\n",
       "      <td>idi</td>\n",
       "      <td>volvo</td>\n",
       "    </tr>\n",
       "    <tr>\n",
       "      <th>204</th>\n",
       "      <td>-1</td>\n",
       "      <td>gas</td>\n",
       "      <td>turbo</td>\n",
       "      <td>four</td>\n",
       "      <td>sedan</td>\n",
       "      <td>rwd</td>\n",
       "      <td>front</td>\n",
       "      <td>ohc</td>\n",
       "      <td>four</td>\n",
       "      <td>mpfi</td>\n",
       "      <td>volvo</td>\n",
       "    </tr>\n",
       "  </tbody>\n",
       "</table>\n",
       "<p>205 rows × 11 columns</p>\n",
       "</div>"
      ],
      "text/plain": [
       "    symboling fueltype aspiration doornumber      carbody drivewheel  \\\n",
       "0           3      gas        std        two  convertible        rwd   \n",
       "1           3      gas        std        two  convertible        rwd   \n",
       "2           1      gas        std        two    hatchback        rwd   \n",
       "3           2      gas        std       four        sedan        fwd   \n",
       "4           2      gas        std       four        sedan        4wd   \n",
       "..        ...      ...        ...        ...          ...        ...   \n",
       "200        -1      gas        std       four        sedan        rwd   \n",
       "201        -1      gas      turbo       four        sedan        rwd   \n",
       "202        -1      gas        std       four        sedan        rwd   \n",
       "203        -1   diesel      turbo       four        sedan        rwd   \n",
       "204        -1      gas      turbo       four        sedan        rwd   \n",
       "\n",
       "    enginelocation enginetype cylindernumber fuelsystem  car_company  \n",
       "0            front       dohc           four       mpfi  alfa-romero  \n",
       "1            front       dohc           four       mpfi  alfa-romero  \n",
       "2            front       ohcv            six       mpfi  alfa-romero  \n",
       "3            front        ohc           four       mpfi         audi  \n",
       "4            front        ohc           five       mpfi         audi  \n",
       "..             ...        ...            ...        ...          ...  \n",
       "200          front        ohc           four       mpfi        volvo  \n",
       "201          front        ohc           four       mpfi        volvo  \n",
       "202          front       ohcv            six       mpfi        volvo  \n",
       "203          front        ohc            six        idi        volvo  \n",
       "204          front        ohc           four       mpfi        volvo  \n",
       "\n",
       "[205 rows x 11 columns]"
      ]
     },
     "execution_count": 61,
     "metadata": {},
     "output_type": "execute_result"
    }
   ],
   "source": [
    "cars_categorical = X.select_dtypes(include=['object'])\n",
    "cars_categorical"
   ]
  },
  {
   "cell_type": "code",
   "execution_count": 62,
   "metadata": {},
   "outputs": [
    {
     "data": {
      "text/html": [
       "<div>\n",
       "<style scoped>\n",
       "    .dataframe tbody tr th:only-of-type {\n",
       "        vertical-align: middle;\n",
       "    }\n",
       "\n",
       "    .dataframe tbody tr th {\n",
       "        vertical-align: top;\n",
       "    }\n",
       "\n",
       "    .dataframe thead th {\n",
       "        text-align: right;\n",
       "    }\n",
       "</style>\n",
       "<table border=\"1\" class=\"dataframe\">\n",
       "  <thead>\n",
       "    <tr style=\"text-align: right;\">\n",
       "      <th></th>\n",
       "      <th>symboling_-1</th>\n",
       "      <th>symboling_0</th>\n",
       "      <th>symboling_1</th>\n",
       "      <th>symboling_2</th>\n",
       "      <th>symboling_3</th>\n",
       "      <th>fueltype_gas</th>\n",
       "      <th>aspiration_turbo</th>\n",
       "      <th>doornumber_two</th>\n",
       "      <th>carbody_hardtop</th>\n",
       "      <th>carbody_hatchback</th>\n",
       "      <th>...</th>\n",
       "      <th>car_company_porsche</th>\n",
       "      <th>car_company_renault</th>\n",
       "      <th>car_company_saab</th>\n",
       "      <th>car_company_subaru</th>\n",
       "      <th>car_company_toyota</th>\n",
       "      <th>car_company_toyouta</th>\n",
       "      <th>car_company_vokswagen</th>\n",
       "      <th>car_company_volkswagen</th>\n",
       "      <th>car_company_volvo</th>\n",
       "      <th>car_company_vw</th>\n",
       "    </tr>\n",
       "  </thead>\n",
       "  <tbody>\n",
       "    <tr>\n",
       "      <th>0</th>\n",
       "      <td>0</td>\n",
       "      <td>0</td>\n",
       "      <td>0</td>\n",
       "      <td>0</td>\n",
       "      <td>1</td>\n",
       "      <td>1</td>\n",
       "      <td>0</td>\n",
       "      <td>1</td>\n",
       "      <td>0</td>\n",
       "      <td>0</td>\n",
       "      <td>...</td>\n",
       "      <td>0</td>\n",
       "      <td>0</td>\n",
       "      <td>0</td>\n",
       "      <td>0</td>\n",
       "      <td>0</td>\n",
       "      <td>0</td>\n",
       "      <td>0</td>\n",
       "      <td>0</td>\n",
       "      <td>0</td>\n",
       "      <td>0</td>\n",
       "    </tr>\n",
       "    <tr>\n",
       "      <th>1</th>\n",
       "      <td>0</td>\n",
       "      <td>0</td>\n",
       "      <td>0</td>\n",
       "      <td>0</td>\n",
       "      <td>1</td>\n",
       "      <td>1</td>\n",
       "      <td>0</td>\n",
       "      <td>1</td>\n",
       "      <td>0</td>\n",
       "      <td>0</td>\n",
       "      <td>...</td>\n",
       "      <td>0</td>\n",
       "      <td>0</td>\n",
       "      <td>0</td>\n",
       "      <td>0</td>\n",
       "      <td>0</td>\n",
       "      <td>0</td>\n",
       "      <td>0</td>\n",
       "      <td>0</td>\n",
       "      <td>0</td>\n",
       "      <td>0</td>\n",
       "    </tr>\n",
       "    <tr>\n",
       "      <th>2</th>\n",
       "      <td>0</td>\n",
       "      <td>0</td>\n",
       "      <td>1</td>\n",
       "      <td>0</td>\n",
       "      <td>0</td>\n",
       "      <td>1</td>\n",
       "      <td>0</td>\n",
       "      <td>1</td>\n",
       "      <td>0</td>\n",
       "      <td>1</td>\n",
       "      <td>...</td>\n",
       "      <td>0</td>\n",
       "      <td>0</td>\n",
       "      <td>0</td>\n",
       "      <td>0</td>\n",
       "      <td>0</td>\n",
       "      <td>0</td>\n",
       "      <td>0</td>\n",
       "      <td>0</td>\n",
       "      <td>0</td>\n",
       "      <td>0</td>\n",
       "    </tr>\n",
       "    <tr>\n",
       "      <th>3</th>\n",
       "      <td>0</td>\n",
       "      <td>0</td>\n",
       "      <td>0</td>\n",
       "      <td>1</td>\n",
       "      <td>0</td>\n",
       "      <td>1</td>\n",
       "      <td>0</td>\n",
       "      <td>0</td>\n",
       "      <td>0</td>\n",
       "      <td>0</td>\n",
       "      <td>...</td>\n",
       "      <td>0</td>\n",
       "      <td>0</td>\n",
       "      <td>0</td>\n",
       "      <td>0</td>\n",
       "      <td>0</td>\n",
       "      <td>0</td>\n",
       "      <td>0</td>\n",
       "      <td>0</td>\n",
       "      <td>0</td>\n",
       "      <td>0</td>\n",
       "    </tr>\n",
       "    <tr>\n",
       "      <th>4</th>\n",
       "      <td>0</td>\n",
       "      <td>0</td>\n",
       "      <td>0</td>\n",
       "      <td>1</td>\n",
       "      <td>0</td>\n",
       "      <td>1</td>\n",
       "      <td>0</td>\n",
       "      <td>0</td>\n",
       "      <td>0</td>\n",
       "      <td>0</td>\n",
       "      <td>...</td>\n",
       "      <td>0</td>\n",
       "      <td>0</td>\n",
       "      <td>0</td>\n",
       "      <td>0</td>\n",
       "      <td>0</td>\n",
       "      <td>0</td>\n",
       "      <td>0</td>\n",
       "      <td>0</td>\n",
       "      <td>0</td>\n",
       "      <td>0</td>\n",
       "    </tr>\n",
       "  </tbody>\n",
       "</table>\n",
       "<p>5 rows × 61 columns</p>\n",
       "</div>"
      ],
      "text/plain": [
       "   symboling_-1  symboling_0  symboling_1  symboling_2  symboling_3  \\\n",
       "0             0            0            0            0            1   \n",
       "1             0            0            0            0            1   \n",
       "2             0            0            1            0            0   \n",
       "3             0            0            0            1            0   \n",
       "4             0            0            0            1            0   \n",
       "\n",
       "   fueltype_gas  aspiration_turbo  doornumber_two  carbody_hardtop  \\\n",
       "0             1                 0               1                0   \n",
       "1             1                 0               1                0   \n",
       "2             1                 0               1                0   \n",
       "3             1                 0               0                0   \n",
       "4             1                 0               0                0   \n",
       "\n",
       "   carbody_hatchback  ...  car_company_porsche  car_company_renault  \\\n",
       "0                  0  ...                    0                    0   \n",
       "1                  0  ...                    0                    0   \n",
       "2                  1  ...                    0                    0   \n",
       "3                  0  ...                    0                    0   \n",
       "4                  0  ...                    0                    0   \n",
       "\n",
       "   car_company_saab  car_company_subaru  car_company_toyota  \\\n",
       "0                 0                   0                   0   \n",
       "1                 0                   0                   0   \n",
       "2                 0                   0                   0   \n",
       "3                 0                   0                   0   \n",
       "4                 0                   0                   0   \n",
       "\n",
       "   car_company_toyouta  car_company_vokswagen  car_company_volkswagen  \\\n",
       "0                    0                      0                       0   \n",
       "1                    0                      0                       0   \n",
       "2                    0                      0                       0   \n",
       "3                    0                      0                       0   \n",
       "4                    0                      0                       0   \n",
       "\n",
       "   car_company_volvo  car_company_vw  \n",
       "0                  0               0  \n",
       "1                  0               0  \n",
       "2                  0               0  \n",
       "3                  0               0  \n",
       "4                  0               0  \n",
       "\n",
       "[5 rows x 61 columns]"
      ]
     },
     "execution_count": 62,
     "metadata": {},
     "output_type": "execute_result"
    }
   ],
   "source": [
    "# Convert the categorical values to columns\n",
    "cars_dummies = pd.get_dummies(cars_categorical, drop_first=True)\n",
    "cars_dummies.head()"
   ]
  },
  {
   "cell_type": "code",
   "execution_count": 63,
   "metadata": {},
   "outputs": [],
   "source": [
    "# Drop the categorical columns and merge the dummies columns\n",
    "X = X.drop(list(cars_categorical.columns), axis=1)\n",
    "X = pd.concat([X, cars_dummies], axis=1)"
   ]
  },
  {
   "cell_type": "code",
   "execution_count": 64,
   "metadata": {},
   "outputs": [
    {
     "data": {
      "text/plain": [
       "Index(['wheelbase', 'carlength', 'carwidth', 'carheight', 'curbweight',\n",
       "       'enginesize', 'boreratio', 'stroke', 'compressionratio', 'horsepower',\n",
       "       'peakrpm', 'citympg', 'highwaympg', 'symboling_-1', 'symboling_0',\n",
       "       'symboling_1', 'symboling_2', 'symboling_3', 'fueltype_gas',\n",
       "       'aspiration_turbo', 'doornumber_two', 'carbody_hardtop',\n",
       "       'carbody_hatchback', 'carbody_sedan', 'carbody_wagon', 'drivewheel_fwd',\n",
       "       'drivewheel_rwd', 'enginelocation_rear', 'enginetype_dohcv',\n",
       "       'enginetype_l', 'enginetype_ohc', 'enginetype_ohcf', 'enginetype_ohcv',\n",
       "       'enginetype_rotor', 'cylindernumber_five', 'cylindernumber_four',\n",
       "       'cylindernumber_six', 'cylindernumber_three', 'cylindernumber_twelve',\n",
       "       'cylindernumber_two', 'fuelsystem_2bbl', 'fuelsystem_4bbl',\n",
       "       'fuelsystem_idi', 'fuelsystem_mfi', 'fuelsystem_mpfi',\n",
       "       'fuelsystem_spdi', 'fuelsystem_spfi', 'car_company_alfa-romero',\n",
       "       'car_company_audi', 'car_company_bmw', 'car_company_buick',\n",
       "       'car_company_chevrolet', 'car_company_dodge', 'car_company_honda',\n",
       "       'car_company_isuzu', 'car_company_jaguar', 'car_company_maxda',\n",
       "       'car_company_mazda', 'car_company_mercury', 'car_company_mitsubishi',\n",
       "       'car_company_nissan', 'car_company_peugeot', 'car_company_plymouth',\n",
       "       'car_company_porcshce', 'car_company_porsche', 'car_company_renault',\n",
       "       'car_company_saab', 'car_company_subaru', 'car_company_toyota',\n",
       "       'car_company_toyouta', 'car_company_vokswagen',\n",
       "       'car_company_volkswagen', 'car_company_volvo', 'car_company_vw'],\n",
       "      dtype='object')"
      ]
     },
     "execution_count": 64,
     "metadata": {},
     "output_type": "execute_result"
    }
   ],
   "source": [
    "# scaling the features\n",
    "from sklearn.preprocessing import scale\n",
    "\n",
    "# storing column names in cols, since column names are (annoyingly) lost after \n",
    "# scaling (the df is converted to a numpy array)\n",
    "cols = X.columns\n",
    "X = pd.DataFrame(scale(X))\n",
    "X.columns = cols\n",
    "X.columns"
   ]
  },
  {
   "cell_type": "code",
   "execution_count": 66,
   "metadata": {},
   "outputs": [],
   "source": [
    "# split into train and test\n",
    "from sklearn.model_selection import train_test_split\n",
    "\n",
    "X_train, X_test, y_train, y_test = train_test_split(X, y, \n",
    "                                                    train_size=0.7,\n",
    "                                                    test_size = 0.3, random_state=100)"
   ]
  },
  {
   "cell_type": "code",
   "execution_count": 67,
   "metadata": {},
   "outputs": [
    {
     "data": {
      "text/plain": [
       "LinearRegression(copy_X=True, fit_intercept=True, n_jobs=None, normalize=False)"
      ]
     },
     "execution_count": 67,
     "metadata": {},
     "output_type": "execute_result"
    }
   ],
   "source": [
    "# Building the model initially with all the features\n",
    "\n",
    "# instantiate\n",
    "lm = LinearRegression()\n",
    "\n",
    "# fit\n",
    "lm.fit(X_train, y_train)"
   ]
  },
  {
   "cell_type": "code",
   "execution_count": 68,
   "metadata": {},
   "outputs": [
    {
     "name": "stdout",
     "output_type": "stream",
     "text": [
      "0.8213127037370718\n"
     ]
    }
   ],
   "source": [
    "# Predict the dependent variable for the test values \n",
    "y_pred = lm.predict(X_test)\n",
    "\n",
    "# metrics\n",
    "from sklearn.metrics import r2_score\n",
    "\n",
    "print(r2_score(y_true=y_test, y_pred=y_pred))"
   ]
  },
  {
   "cell_type": "markdown",
   "metadata": {},
   "source": [
    "1. RFE:- Select 15 features using RFE (Recursive Feature Elimination) "
   ]
  },
  {
   "cell_type": "code",
   "execution_count": 69,
   "metadata": {},
   "outputs": [
    {
     "name": "stdout",
     "output_type": "stream",
     "text": [
      "[False False  True False  True  True  True  True False False False False\n",
      " False False False False False False False False False False False False\n",
      " False False False  True False False False False False  True  True  True\n",
      " False  True  True  True False False False False False False False False\n",
      " False  True False False False False False False False False False False\n",
      " False  True False False  True False False False False False False False\n",
      " False False]\n",
      "[ 4  5  1  7  1  1  1  1  9 32 13 37 22 23 26 25 24 27 10  2 35 19  6 17\n",
      " 18 47 34  1 33 46 51 20 28  1  1  1 31  1  1  1 14 43 11 57 48 54 56 40\n",
      " 42  1 52 30 15 21 45 29 44 53 58  3 50  1 16 59  1 38  8 36 41 55 60 39\n",
      " 12 49]\n"
     ]
    }
   ],
   "source": [
    "# RFE with 15 features\n",
    "from sklearn.feature_selection import RFE\n",
    "\n",
    "# RFE with 15 features\n",
    "lm = LinearRegression()\n",
    "rfe_15 = RFE(lm, 15)\n",
    "\n",
    "# fit with 15 features\n",
    "rfe_15.fit(X_train, y_train)\n",
    "\n",
    "# Printing the boolean results\n",
    "print(rfe_15.support_)           \n",
    "print(rfe_15.ranking_)  "
   ]
  },
  {
   "cell_type": "code",
   "execution_count": 70,
   "metadata": {},
   "outputs": [
    {
     "name": "stdout",
     "output_type": "stream",
     "text": [
      "0.889047100074386\n"
     ]
    }
   ],
   "source": [
    "# making predictions using rfe model (15 features)\n",
    "y_pred = rfe_15.predict(X_test)\n",
    "\n",
    "# r-squared\n",
    "print(r2_score(y_test, y_pred))"
   ]
  },
  {
   "cell_type": "code",
   "execution_count": 71,
   "metadata": {},
   "outputs": [
    {
     "data": {
      "text/html": [
       "<div>\n",
       "<style scoped>\n",
       "    .dataframe tbody tr th:only-of-type {\n",
       "        vertical-align: middle;\n",
       "    }\n",
       "\n",
       "    .dataframe tbody tr th {\n",
       "        vertical-align: top;\n",
       "    }\n",
       "\n",
       "    .dataframe thead th {\n",
       "        text-align: right;\n",
       "    }\n",
       "</style>\n",
       "<table border=\"1\" class=\"dataframe\">\n",
       "  <thead>\n",
       "    <tr style=\"text-align: right;\">\n",
       "      <th></th>\n",
       "      <th>const</th>\n",
       "      <th>carwidth</th>\n",
       "      <th>curbweight</th>\n",
       "      <th>enginesize</th>\n",
       "      <th>boreratio</th>\n",
       "      <th>stroke</th>\n",
       "      <th>enginelocation_rear</th>\n",
       "      <th>enginetype_rotor</th>\n",
       "      <th>cylindernumber_five</th>\n",
       "      <th>cylindernumber_four</th>\n",
       "      <th>cylindernumber_three</th>\n",
       "      <th>cylindernumber_twelve</th>\n",
       "      <th>cylindernumber_two</th>\n",
       "      <th>car_company_bmw</th>\n",
       "      <th>car_company_peugeot</th>\n",
       "      <th>car_company_porsche</th>\n",
       "    </tr>\n",
       "  </thead>\n",
       "  <tbody>\n",
       "    <tr>\n",
       "      <th>122</th>\n",
       "      <td>1.0</td>\n",
       "      <td>-0.984972</td>\n",
       "      <td>-0.701886</td>\n",
       "      <td>-0.695874</td>\n",
       "      <td>-1.331531</td>\n",
       "      <td>-0.081241</td>\n",
       "      <td>-0.121867</td>\n",
       "      <td>-0.141069</td>\n",
       "      <td>-0.23812</td>\n",
       "      <td>0.537874</td>\n",
       "      <td>-0.070014</td>\n",
       "      <td>-0.070014</td>\n",
       "      <td>-0.141069</td>\n",
       "      <td>-0.201517</td>\n",
       "      <td>-0.23812</td>\n",
       "      <td>-0.141069</td>\n",
       "    </tr>\n",
       "    <tr>\n",
       "      <th>125</th>\n",
       "      <td>1.0</td>\n",
       "      <td>1.117866</td>\n",
       "      <td>0.428245</td>\n",
       "      <td>0.579974</td>\n",
       "      <td>2.258638</td>\n",
       "      <td>-0.464834</td>\n",
       "      <td>-0.121867</td>\n",
       "      <td>-0.141069</td>\n",
       "      <td>-0.23812</td>\n",
       "      <td>0.537874</td>\n",
       "      <td>-0.070014</td>\n",
       "      <td>-0.070014</td>\n",
       "      <td>-0.141069</td>\n",
       "      <td>-0.201517</td>\n",
       "      <td>-0.23812</td>\n",
       "      <td>7.088723</td>\n",
       "    </tr>\n",
       "    <tr>\n",
       "      <th>166</th>\n",
       "      <td>1.0</td>\n",
       "      <td>-0.891512</td>\n",
       "      <td>-0.492032</td>\n",
       "      <td>-0.695874</td>\n",
       "      <td>-0.332206</td>\n",
       "      <td>-0.560733</td>\n",
       "      <td>-0.121867</td>\n",
       "      <td>-0.141069</td>\n",
       "      <td>-0.23812</td>\n",
       "      <td>0.537874</td>\n",
       "      <td>-0.070014</td>\n",
       "      <td>-0.070014</td>\n",
       "      <td>-0.141069</td>\n",
       "      <td>-0.201517</td>\n",
       "      <td>-0.23812</td>\n",
       "      <td>-0.141069</td>\n",
       "    </tr>\n",
       "    <tr>\n",
       "      <th>1</th>\n",
       "      <td>1.0</td>\n",
       "      <td>-0.844782</td>\n",
       "      <td>-0.014566</td>\n",
       "      <td>0.074449</td>\n",
       "      <td>0.519071</td>\n",
       "      <td>-1.839377</td>\n",
       "      <td>-0.121867</td>\n",
       "      <td>-0.141069</td>\n",
       "      <td>-0.23812</td>\n",
       "      <td>0.537874</td>\n",
       "      <td>-0.070014</td>\n",
       "      <td>-0.070014</td>\n",
       "      <td>-0.141069</td>\n",
       "      <td>-0.201517</td>\n",
       "      <td>-0.23812</td>\n",
       "      <td>-0.141069</td>\n",
       "    </tr>\n",
       "    <tr>\n",
       "      <th>199</th>\n",
       "      <td>1.0</td>\n",
       "      <td>0.603839</td>\n",
       "      <td>1.157921</td>\n",
       "      <td>0.074449</td>\n",
       "      <td>1.074252</td>\n",
       "      <td>-0.336970</td>\n",
       "      <td>-0.121867</td>\n",
       "      <td>-0.141069</td>\n",
       "      <td>-0.23812</td>\n",
       "      <td>0.537874</td>\n",
       "      <td>-0.070014</td>\n",
       "      <td>-0.070014</td>\n",
       "      <td>-0.141069</td>\n",
       "      <td>-0.201517</td>\n",
       "      <td>-0.23812</td>\n",
       "      <td>-0.141069</td>\n",
       "    </tr>\n",
       "  </tbody>\n",
       "</table>\n",
       "</div>"
      ],
      "text/plain": [
       "     const  carwidth  curbweight  enginesize  boreratio    stroke  \\\n",
       "122    1.0 -0.984972   -0.701886   -0.695874  -1.331531 -0.081241   \n",
       "125    1.0  1.117866    0.428245    0.579974   2.258638 -0.464834   \n",
       "166    1.0 -0.891512   -0.492032   -0.695874  -0.332206 -0.560733   \n",
       "1      1.0 -0.844782   -0.014566    0.074449   0.519071 -1.839377   \n",
       "199    1.0  0.603839    1.157921    0.074449   1.074252 -0.336970   \n",
       "\n",
       "     enginelocation_rear  enginetype_rotor  cylindernumber_five  \\\n",
       "122            -0.121867         -0.141069             -0.23812   \n",
       "125            -0.121867         -0.141069             -0.23812   \n",
       "166            -0.121867         -0.141069             -0.23812   \n",
       "1              -0.121867         -0.141069             -0.23812   \n",
       "199            -0.121867         -0.141069             -0.23812   \n",
       "\n",
       "     cylindernumber_four  cylindernumber_three  cylindernumber_twelve  \\\n",
       "122             0.537874             -0.070014              -0.070014   \n",
       "125             0.537874             -0.070014              -0.070014   \n",
       "166             0.537874             -0.070014              -0.070014   \n",
       "1               0.537874             -0.070014              -0.070014   \n",
       "199             0.537874             -0.070014              -0.070014   \n",
       "\n",
       "     cylindernumber_two  car_company_bmw  car_company_peugeot  \\\n",
       "122           -0.141069        -0.201517             -0.23812   \n",
       "125           -0.141069        -0.201517             -0.23812   \n",
       "166           -0.141069        -0.201517             -0.23812   \n",
       "1             -0.141069        -0.201517             -0.23812   \n",
       "199           -0.141069        -0.201517             -0.23812   \n",
       "\n",
       "     car_company_porsche  \n",
       "122            -0.141069  \n",
       "125             7.088723  \n",
       "166            -0.141069  \n",
       "1              -0.141069  \n",
       "199            -0.141069  "
      ]
     },
     "execution_count": 71,
     "metadata": {},
     "output_type": "execute_result"
    }
   ],
   "source": [
    "# import statsmodels\n",
    "import statsmodels.api as sm  \n",
    "\n",
    "# subset the features selected by rfe_15\n",
    "col_15 = X_train.columns[rfe_15.support_]\n",
    "\n",
    "# subsetting training data for 15 selected columns\n",
    "X_train_rfe_15 = X_train[col_15]\n",
    "\n",
    "# add a constant to the model\n",
    "X_train_rfe_15 = sm.add_constant(X_train_rfe_15)\n",
    "X_train_rfe_15.head()"
   ]
  },
  {
   "cell_type": "code",
   "execution_count": 72,
   "metadata": {},
   "outputs": [
    {
     "name": "stdout",
     "output_type": "stream",
     "text": [
      "                            OLS Regression Results                            \n",
      "==============================================================================\n",
      "Dep. Variable:                  price   R-squared:                       0.939\n",
      "Model:                            OLS   Adj. R-squared:                  0.933\n",
      "Method:                 Least Squares   F-statistic:                     141.8\n",
      "Date:                Tue, 09 Jun 2020   Prob (F-statistic):           1.03e-70\n",
      "Time:                        08:46:57   Log-Likelihood:                -1283.6\n",
      "No. Observations:                 143   AIC:                             2597.\n",
      "Df Residuals:                     128   BIC:                             2642.\n",
      "Df Model:                          14                                         \n",
      "Covariance Type:            nonrobust                                         \n",
      "=========================================================================================\n",
      "                            coef    std err          t      P>|t|      [0.025      0.975]\n",
      "-----------------------------------------------------------------------------------------\n",
      "const                  1.343e+04    174.969     76.781      0.000    1.31e+04    1.38e+04\n",
      "carwidth               2240.5648    403.828      5.548      0.000    1441.522    3039.608\n",
      "curbweight             2760.3634    546.842      5.048      0.000    1678.343    3842.384\n",
      "enginesize             7020.3480    901.611      7.786      0.000    5236.356    8804.340\n",
      "boreratio             -2779.7566    417.229     -6.662      0.000   -3605.315   -1954.198\n",
      "stroke                -1509.4160    266.415     -5.666      0.000   -2036.563    -982.269\n",
      "enginelocation_rear    1524.0751    324.285      4.700      0.000     882.422    2165.728\n",
      "enginetype_rotor       1193.0364    165.863      7.193      0.000     864.849    1521.224\n",
      "cylindernumber_five    1289.6254    267.629      4.819      0.000     760.075    1819.176\n",
      "cylindernumber_four    3411.2544    586.249      5.819      0.000    2251.260    4571.249\n",
      "cylindernumber_three   1148.1269    188.361      6.095      0.000     775.422    1520.832\n",
      "cylindernumber_twelve -1124.9273    247.052     -4.553      0.000   -1613.762    -636.092\n",
      "cylindernumber_two     1193.0364    165.863      7.193      0.000     864.849    1521.224\n",
      "car_company_bmw        1977.5762    185.994     10.632      0.000    1609.555    2345.597\n",
      "car_company_peugeot    -890.1883    216.320     -4.115      0.000   -1318.215    -462.162\n",
      "car_company_porsche     890.7402    224.678      3.965      0.000     446.176    1335.305\n",
      "==============================================================================\n",
      "Omnibus:                       22.727   Durbin-Watson:                   1.862\n",
      "Prob(Omnibus):                  0.000   Jarque-Bera (JB):               38.186\n",
      "Skew:                           0.769   Prob(JB):                     5.10e-09\n",
      "Kurtosis:                       5.011   Cond. No.                     8.14e+16\n",
      "==============================================================================\n",
      "\n",
      "Warnings:\n",
      "[1] Standard Errors assume that the covariance matrix of the errors is correctly specified.\n",
      "[2] The smallest eigenvalue is 8.93e-32. This might indicate that there are\n",
      "strong multicollinearity problems or that the design matrix is singular.\n"
     ]
    }
   ],
   "source": [
    "# fit the model with these 15 variables\n",
    "lm_15 = sm.OLS(y_train, X_train_rfe_15).fit()   \n",
    "print(lm_15.summary())"
   ]
  },
  {
   "cell_type": "code",
   "execution_count": 73,
   "metadata": {},
   "outputs": [
    {
     "name": "stdout",
     "output_type": "stream",
     "text": [
      "<class 'pandas.core.frame.DataFrame'>\n",
      "Int64Index: 62 entries, 160 to 128\n",
      "Data columns (total 16 columns):\n",
      " #   Column                 Non-Null Count  Dtype  \n",
      "---  ------                 --------------  -----  \n",
      " 0   const                  62 non-null     float64\n",
      " 1   carwidth               62 non-null     float64\n",
      " 2   curbweight             62 non-null     float64\n",
      " 3   enginesize             62 non-null     float64\n",
      " 4   boreratio              62 non-null     float64\n",
      " 5   stroke                 62 non-null     float64\n",
      " 6   enginelocation_rear    62 non-null     float64\n",
      " 7   enginetype_rotor       62 non-null     float64\n",
      " 8   cylindernumber_five    62 non-null     float64\n",
      " 9   cylindernumber_four    62 non-null     float64\n",
      " 10  cylindernumber_three   62 non-null     float64\n",
      " 11  cylindernumber_twelve  62 non-null     float64\n",
      " 12  cylindernumber_two     62 non-null     float64\n",
      " 13  car_company_bmw        62 non-null     float64\n",
      " 14  car_company_peugeot    62 non-null     float64\n",
      " 15  car_company_porsche    62 non-null     float64\n",
      "dtypes: float64(16)\n",
      "memory usage: 8.2 KB\n"
     ]
    }
   ],
   "source": [
    "# making predictions using rfe_15 sm model\n",
    "X_test_rfe_15 = X_test[col_15]\n",
    "\n",
    "\n",
    "# # Adding a constant variable \n",
    "X_test_rfe_15 = sm.add_constant(X_test_rfe_15, has_constant='add')\n",
    "X_test_rfe_15.info()\n",
    "\n",
    "\n",
    "# # Making predictions\n",
    "y_pred = lm_15.predict(X_test_rfe_15)\n"
   ]
  },
  {
   "cell_type": "code",
   "execution_count": 74,
   "metadata": {},
   "outputs": [
    {
     "data": {
      "text/plain": [
       "0.8890471000743858"
      ]
     },
     "execution_count": 74,
     "metadata": {},
     "output_type": "execute_result"
    }
   ],
   "source": [
    "# r-squared\n",
    "r2_score(y_test, y_pred)"
   ]
  },
  {
   "cell_type": "markdown",
   "metadata": {},
   "source": [
    "## Choosing the optimal number of features"
   ]
  },
  {
   "cell_type": "code",
   "execution_count": 78,
   "metadata": {},
   "outputs": [],
   "source": [
    "# Find the  optimal number of features. We shall be trying from 4 to 20 features\n",
    "adjusted_r2 = []\n",
    "r2 = []\n",
    "test_r2 = []\n",
    "\n",
    "for n_features in range(4, 20):\n",
    "\n",
    "    # RFE with n features\n",
    "    lm = LinearRegression()\n",
    "\n",
    "    # specify number of features\n",
    "    rfe_n = RFE(lm, n_features)\n",
    "\n",
    "    # fit with n features\n",
    "    rfe_n.fit(X_train, y_train)\n",
    "\n",
    "    # subset the features selected by rfe_n\n",
    "    col_n = X_train.columns[rfe_n.support_]\n",
    "\n",
    "    # subsetting training data for n selected columns\n",
    "    X_train_rfe_n = X_train[col_n]\n",
    "\n",
    "    # add a constant to the model\n",
    "    X_train_rfe_n = sm.add_constant(X_train_rfe_n)\n",
    "\n",
    "\n",
    "    # fitting the model with n variables\n",
    "    lm_n = sm.OLS(y_train, X_train_rfe_n).fit()\n",
    "    adjusted_r2.append(lm_n.rsquared_adj)\n",
    "    r2.append(lm_n.rsquared)\n",
    "    \n",
    "    # making predictions using rfe_15 sm model\n",
    "    X_test_rfe_n = X_test[col_n]\n",
    "\n",
    "    # # Adding a constant variable \n",
    "    X_test_rfe_n = sm.add_constant(X_test_rfe_n, has_constant='add')\n",
    "\n",
    "    # # Making predictions\n",
    "    y_pred = lm_n.predict(X_test_rfe_n)\n",
    "    \n",
    "    test_r2.append(r2_score(y_test, y_pred))"
   ]
  },
  {
   "cell_type": "code",
   "execution_count": 80,
   "metadata": {},
   "outputs": [
    {
     "data": {
      "image/png": "[encoded data removed]",
      "text/plain": [
       "<Figure size 720x576 with 1 Axes>"
      ]
     },
     "metadata": {
      "needs_background": "light"
     },
     "output_type": "display_data"
    }
   ],
   "source": [
    "# plotting adjusted_r2,r2,test_r2 against n_features\n",
    "n_features_list = list(range(4,20))\n",
    "plt.figure(figsize=(10, 8))\n",
    "plt.plot(n_features_list, adjusted_r2, label=\"adjusted_r2\")\n",
    "plt.plot(n_features_list, r2, label=\"train_r2\")\n",
    "plt.plot(n_features_list, test_r2, label=\"test_r2\")\n",
    "plt.legend(loc='upper left')\n",
    "plt.show()"
   ]
  },
  {
   "cell_type": "markdown",
   "metadata": {},
   "source": [
    "### Final Model"
   ]
  },
  {
   "cell_type": "code",
   "execution_count": 88,
   "metadata": {},
   "outputs": [
    {
     "name": "stdout",
     "output_type": "stream",
     "text": [
      "0.9160335989800035\n"
     ]
    }
   ],
   "source": [
    "    #We shall be going ahead with 12 features for the final model.\n",
    "    # RFE with n features\n",
    "    lm = LinearRegression()\n",
    "\n",
    "    # specify number of features\n",
    "    rfe_12 = RFE(lm, 12)\n",
    "\n",
    "    # fit with n features\n",
    "    rfe_12.fit(X_train, y_train)\n",
    "\n",
    "    # subset the features selected by rfe_n\n",
    "    col_12 = X_train.columns[rfe_12.support_]\n",
    "\n",
    "    # subsetting training data for n selected columns\n",
    "    X_train_rfe_12 = X_train[col_12]\n",
    "\n",
    "    # add a constant to the model\n",
    "    X_train_rfe_12 = sm.add_constant(X_train_rfe_12)\n",
    "\n",
    "\n",
    "    # fitting the model with n variables\n",
    "    lm_12 = sm.OLS(y_train, X_train_rfe_12).fit()\n",
    "    \n",
    "    # making predictions using rfe_15 sm model\n",
    "    X_test_rfe_12 = X_test[col_12]\n",
    "\n",
    "    # # Adding a constant variable \n",
    "    X_test_rfe_12 = sm.add_constant(X_test_rfe_12, has_constant='add')\n",
    "\n",
    "    # # Making predictions\n",
    "    y_pred_12 = lm_12.predict(X_test_rfe_12)\n",
    "    \n",
    "    print(r2_score(y_test, y_pred_12))"
   ]
  },
  {
   "cell_type": "code",
   "execution_count": 89,
   "metadata": {},
   "outputs": [
    {
     "data": {
      "text/plain": [
       "Index(['carwidth', 'curbweight', 'enginesize', 'boreratio', 'stroke',\n",
       "       'enginelocation_rear', 'enginetype_rotor', 'cylindernumber_five',\n",
       "       'cylindernumber_four', 'cylindernumber_twelve', 'cylindernumber_two',\n",
       "       'car_company_bmw'],\n",
       "      dtype='object')"
      ]
     },
     "execution_count": 89,
     "metadata": {},
     "output_type": "execute_result"
    }
   ],
   "source": [
    "col_12"
   ]
  },
  {
   "cell_type": "code",
   "execution_count": 92,
   "metadata": {},
   "outputs": [
    {
     "data": {
      "image/png": "[encoded data removed]",
      "text/plain": [
       "<Figure size 1152x576 with 2 Axes>"
      ]
     },
     "metadata": {
      "needs_background": "light"
     },
     "output_type": "display_data"
    }
   ],
   "source": [
    "# MultiCollinearity (12 columns)\n",
    "cors = X.loc[:, list(col_12)].corr()\n",
    "plt.figure(figsize=(16,8))\n",
    "sns.heatmap(cors, annot=True)\n",
    "plt.show()"
   ]
  },
  {
   "cell_type": "markdown",
   "metadata": {},
   "source": [
    " Use VIF (Variance Inflation Factor) to remove the multicollinear columns based on these 12 columns and \n",
    " check, if it further improves the r2_score"
   ]
  },
  {
   "cell_type": "code",
   "execution_count": 95,
   "metadata": {},
   "outputs": [],
   "source": [
    "# Function to calculate VIF (Variance Inflation Factor)\n",
    "from statsmodels.stats.outliers_influence import variance_inflation_factor    \n",
    "\n",
    "def calculate_vif_(X, thresh=5.0):\n",
    "    variables = list(range(X.shape[1]))\n",
    "    dropped = True\n",
    "    while dropped:\n",
    "        dropped = False\n",
    "        vif = [variance_inflation_factor(X.iloc[:, variables].values, ix)\n",
    "               for ix in range(X.iloc[:, variables].shape[1])]\n",
    "\n",
    "        maxloc = vif.index(max(vif))\n",
    "        if max(vif) > thresh:\n",
    "            print('dropping \\'' + X.iloc[:, variables].columns[maxloc] +\n",
    "                  '\\' at index: ' + str(maxloc))\n",
    "            del variables[maxloc]\n",
    "            dropped = True\n",
    "\n",
    "    print('Remaining variables:')\n",
    "    print(X.columns[variables])\n",
    "    return X.iloc[:, variables]"
   ]
  },
  {
   "cell_type": "code",
   "execution_count": 97,
   "metadata": {},
   "outputs": [
    {
     "name": "stdout",
     "output_type": "stream",
     "text": [
      "dropping 'enginetype_rotor' at index: 6\n",
      "dropping 'enginesize' at index: 2\n",
      "dropping 'curbweight' at index: 1\n",
      "Remaining variables:\n",
      "Index(['carwidth', 'boreratio', 'stroke', 'enginelocation_rear',\n",
      "       'cylindernumber_five', 'cylindernumber_four', 'cylindernumber_twelve',\n",
      "       'cylindernumber_two', 'car_company_bmw'],\n",
      "      dtype='object')\n"
     ]
    },
    {
     "name": "stderr",
     "output_type": "stream",
     "text": [
      "C:\\ProgramData\\Anaconda3\\lib\\site-packages\\statsmodels\\stats\\outliers_influence.py:193: RuntimeWarning: divide by zero encountered in double_scalars\n",
      "  vif = 1. / (1. - r_squared_i)\n"
     ]
    }
   ],
   "source": [
    "vif_based_columns = calculate_vif_(X.loc[:, list(col_12)])"
   ]
  },
  {
   "cell_type": "code",
   "execution_count": 98,
   "metadata": {},
   "outputs": [
    {
     "data": {
      "text/html": [
       "<div>\n",
       "<style scoped>\n",
       "    .dataframe tbody tr th:only-of-type {\n",
       "        vertical-align: middle;\n",
       "    }\n",
       "\n",
       "    .dataframe tbody tr th {\n",
       "        vertical-align: top;\n",
       "    }\n",
       "\n",
       "    .dataframe thead th {\n",
       "        text-align: right;\n",
       "    }\n",
       "</style>\n",
       "<table border=\"1\" class=\"dataframe\">\n",
       "  <thead>\n",
       "    <tr style=\"text-align: right;\">\n",
       "      <th></th>\n",
       "      <th>carwidth</th>\n",
       "      <th>boreratio</th>\n",
       "      <th>stroke</th>\n",
       "      <th>enginelocation_rear</th>\n",
       "      <th>cylindernumber_five</th>\n",
       "      <th>cylindernumber_four</th>\n",
       "      <th>cylindernumber_twelve</th>\n",
       "      <th>cylindernumber_two</th>\n",
       "      <th>car_company_bmw</th>\n",
       "    </tr>\n",
       "  </thead>\n",
       "  <tbody>\n",
       "    <tr>\n",
       "      <th>0</th>\n",
       "      <td>-0.844782</td>\n",
       "      <td>0.519071</td>\n",
       "      <td>-1.839377</td>\n",
       "      <td>-0.121867</td>\n",
       "      <td>-0.238120</td>\n",
       "      <td>0.537874</td>\n",
       "      <td>-0.070014</td>\n",
       "      <td>-0.141069</td>\n",
       "      <td>-0.201517</td>\n",
       "    </tr>\n",
       "    <tr>\n",
       "      <th>1</th>\n",
       "      <td>-0.844782</td>\n",
       "      <td>0.519071</td>\n",
       "      <td>-1.839377</td>\n",
       "      <td>-0.121867</td>\n",
       "      <td>-0.238120</td>\n",
       "      <td>0.537874</td>\n",
       "      <td>-0.070014</td>\n",
       "      <td>-0.141069</td>\n",
       "      <td>-0.201517</td>\n",
       "    </tr>\n",
       "    <tr>\n",
       "      <th>2</th>\n",
       "      <td>-0.190566</td>\n",
       "      <td>-2.404880</td>\n",
       "      <td>0.685946</td>\n",
       "      <td>-0.121867</td>\n",
       "      <td>-0.238120</td>\n",
       "      <td>-1.859172</td>\n",
       "      <td>-0.070014</td>\n",
       "      <td>-0.141069</td>\n",
       "      <td>-0.201517</td>\n",
       "    </tr>\n",
       "    <tr>\n",
       "      <th>3</th>\n",
       "      <td>0.136542</td>\n",
       "      <td>-0.517266</td>\n",
       "      <td>0.462183</td>\n",
       "      <td>-0.121867</td>\n",
       "      <td>-0.238120</td>\n",
       "      <td>0.537874</td>\n",
       "      <td>-0.070014</td>\n",
       "      <td>-0.141069</td>\n",
       "      <td>-0.201517</td>\n",
       "    </tr>\n",
       "    <tr>\n",
       "      <th>4</th>\n",
       "      <td>0.230001</td>\n",
       "      <td>-0.517266</td>\n",
       "      <td>0.462183</td>\n",
       "      <td>-0.121867</td>\n",
       "      <td>4.199567</td>\n",
       "      <td>-1.859172</td>\n",
       "      <td>-0.070014</td>\n",
       "      <td>-0.141069</td>\n",
       "      <td>-0.201517</td>\n",
       "    </tr>\n",
       "    <tr>\n",
       "      <th>...</th>\n",
       "      <td>...</td>\n",
       "      <td>...</td>\n",
       "      <td>...</td>\n",
       "      <td>...</td>\n",
       "      <td>...</td>\n",
       "      <td>...</td>\n",
       "      <td>...</td>\n",
       "      <td>...</td>\n",
       "      <td>...</td>\n",
       "    </tr>\n",
       "    <tr>\n",
       "      <th>200</th>\n",
       "      <td>1.398245</td>\n",
       "      <td>1.666445</td>\n",
       "      <td>-0.336970</td>\n",
       "      <td>-0.121867</td>\n",
       "      <td>-0.238120</td>\n",
       "      <td>0.537874</td>\n",
       "      <td>-0.070014</td>\n",
       "      <td>-0.141069</td>\n",
       "      <td>-0.201517</td>\n",
       "    </tr>\n",
       "    <tr>\n",
       "      <th>201</th>\n",
       "      <td>1.351515</td>\n",
       "      <td>1.666445</td>\n",
       "      <td>-0.336970</td>\n",
       "      <td>-0.121867</td>\n",
       "      <td>-0.238120</td>\n",
       "      <td>0.537874</td>\n",
       "      <td>-0.070014</td>\n",
       "      <td>-0.141069</td>\n",
       "      <td>-0.201517</td>\n",
       "    </tr>\n",
       "    <tr>\n",
       "      <th>202</th>\n",
       "      <td>1.398245</td>\n",
       "      <td>0.926204</td>\n",
       "      <td>-1.232021</td>\n",
       "      <td>-0.121867</td>\n",
       "      <td>-0.238120</td>\n",
       "      <td>-1.859172</td>\n",
       "      <td>-0.070014</td>\n",
       "      <td>-0.141069</td>\n",
       "      <td>-0.201517</td>\n",
       "    </tr>\n",
       "    <tr>\n",
       "      <th>203</th>\n",
       "      <td>1.398245</td>\n",
       "      <td>-1.183483</td>\n",
       "      <td>0.462183</td>\n",
       "      <td>-0.121867</td>\n",
       "      <td>-0.238120</td>\n",
       "      <td>-1.859172</td>\n",
       "      <td>-0.070014</td>\n",
       "      <td>-0.141069</td>\n",
       "      <td>-0.201517</td>\n",
       "    </tr>\n",
       "    <tr>\n",
       "      <th>204</th>\n",
       "      <td>1.398245</td>\n",
       "      <td>1.666445</td>\n",
       "      <td>-0.336970</td>\n",
       "      <td>-0.121867</td>\n",
       "      <td>-0.238120</td>\n",
       "      <td>0.537874</td>\n",
       "      <td>-0.070014</td>\n",
       "      <td>-0.141069</td>\n",
       "      <td>-0.201517</td>\n",
       "    </tr>\n",
       "  </tbody>\n",
       "</table>\n",
       "<p>205 rows × 9 columns</p>\n",
       "</div>"
      ],
      "text/plain": [
       "     carwidth  boreratio    stroke  enginelocation_rear  cylindernumber_five  \\\n",
       "0   -0.844782   0.519071 -1.839377            -0.121867            -0.238120   \n",
       "1   -0.844782   0.519071 -1.839377            -0.121867            -0.238120   \n",
       "2   -0.190566  -2.404880  0.685946            -0.121867            -0.238120   \n",
       "3    0.136542  -0.517266  0.462183            -0.121867            -0.238120   \n",
       "4    0.230001  -0.517266  0.462183            -0.121867             4.199567   \n",
       "..        ...        ...       ...                  ...                  ...   \n",
       "200  1.398245   1.666445 -0.336970            -0.121867            -0.238120   \n",
       "201  1.351515   1.666445 -0.336970            -0.121867            -0.238120   \n",
       "202  1.398245   0.926204 -1.232021            -0.121867            -0.238120   \n",
       "203  1.398245  -1.183483  0.462183            -0.121867            -0.238120   \n",
       "204  1.398245   1.666445 -0.336970            -0.121867            -0.238120   \n",
       "\n",
       "     cylindernumber_four  cylindernumber_twelve  cylindernumber_two  \\\n",
       "0               0.537874              -0.070014           -0.141069   \n",
       "1               0.537874              -0.070014           -0.141069   \n",
       "2              -1.859172              -0.070014           -0.141069   \n",
       "3               0.537874              -0.070014           -0.141069   \n",
       "4              -1.859172              -0.070014           -0.141069   \n",
       "..                   ...                    ...                 ...   \n",
       "200             0.537874              -0.070014           -0.141069   \n",
       "201             0.537874              -0.070014           -0.141069   \n",
       "202            -1.859172              -0.070014           -0.141069   \n",
       "203            -1.859172              -0.070014           -0.141069   \n",
       "204             0.537874              -0.070014           -0.141069   \n",
       "\n",
       "     car_company_bmw  \n",
       "0          -0.201517  \n",
       "1          -0.201517  \n",
       "2          -0.201517  \n",
       "3          -0.201517  \n",
       "4          -0.201517  \n",
       "..               ...  \n",
       "200        -0.201517  \n",
       "201        -0.201517  \n",
       "202        -0.201517  \n",
       "203        -0.201517  \n",
       "204        -0.201517  \n",
       "\n",
       "[205 rows x 9 columns]"
      ]
     },
     "execution_count": 98,
     "metadata": {},
     "output_type": "execute_result"
    }
   ],
   "source": [
    "vif_based_columns"
   ]
  },
  {
   "cell_type": "code",
   "execution_count": 99,
   "metadata": {},
   "outputs": [
    {
     "data": {
      "image/png": "[encoded data removed]",
      "text/plain": [
       "<Figure size 1152x576 with 2 Axes>"
      ]
     },
     "metadata": {
      "needs_background": "light"
     },
     "output_type": "display_data"
    }
   ],
   "source": [
    "# MultiCollinearity (9 Columns)\n",
    "cors = X.loc[:, list(vif_based_columns)].corr()\n",
    "plt.figure(figsize=(16,8))\n",
    "sns.heatmap(cors, annot=True)\n",
    "plt.show()"
   ]
  },
  {
   "cell_type": "code",
   "execution_count": 108,
   "metadata": {},
   "outputs": [
    {
     "data": {
      "text/plain": [
       "Index(['carwidth', 'boreratio', 'stroke', 'enginelocation_rear',\n",
       "       'cylindernumber_five', 'cylindernumber_four', 'cylindernumber_twelve',\n",
       "       'cylindernumber_two', 'car_company_bmw'],\n",
       "      dtype='object')"
      ]
     },
     "execution_count": 108,
     "metadata": {},
     "output_type": "execute_result"
    }
   ],
   "source": [
    "vif_based_columns.columns"
   ]
  },
  {
   "cell_type": "markdown",
   "metadata": {},
   "source": [
    "## Updated model (with 9 columns)"
   ]
  },
  {
   "cell_type": "code",
   "execution_count": 111,
   "metadata": {},
   "outputs": [
    {
     "name": "stdout",
     "output_type": "stream",
     "text": [
      "0.8266247326672662\n"
     ]
    }
   ],
   "source": [
    "    # fitting the model with 9 variables\n",
    "    #col_9 = X_train[vif_based_columns.columns]\n",
    "    \n",
    "    X_train_rfe_9 = X_train[vif_based_columns.columns]\n",
    "    \n",
    "    # Add constant variable\n",
    "    X_train_rfe_9 = sm.add_constant(X_train_rfe_9)\n",
    "                                   \n",
    "    lm_9 = sm.OLS(y_train, X_train_rfe_9).fit()\n",
    "    \n",
    "    # making predictions using rfe_15 sm model\n",
    "    X_test_rfe_9 = X_test[vif_based_columns.columns]\n",
    "\n",
    "    # # Adding a constant variable \n",
    "    X_test_rfe_9 = sm.add_constant(X_test_rfe_9, has_constant='add')\n",
    "\n",
    "    # # Making predictions\n",
    "    y_pred_9 = lm_9.predict(X_test_rfe_9)\n",
    "    \n",
    "    print(r2_score(y_test, y_pred_9))"
   ]
  },
  {
   "cell_type": "markdown",
   "metadata": {},
   "source": [
    "Removal of the multicollinear columns did not improve the <b>r2_score</b>. hence, we can stick with the <b>12 columns </b> \n",
    "and the r2_score is <b> 0.9160335989800035 </b>"
   ]
  },
  {
   "cell_type": "code",
   "execution_count": null,
   "metadata": {},
   "outputs": [],
   "source": []
  }
 ],
 "metadata": {
  "kernelspec": {
   "display_name": "Python 3",
   "language": "python",
   "name": "python3"
  },
  "language_info": {
   "codemirror_mode": {
    "name": "ipython",
    "version": 3
   },
   "file_extension": ".py",
   "mimetype": "text/x-python",
   "name": "python",
   "nbconvert_exporter": "python",
   "pygments_lexer": "ipython3",
   "version": "3.7.7"
  }
 },
 "nbformat": 4,
 "nbformat_minor": 2
}
